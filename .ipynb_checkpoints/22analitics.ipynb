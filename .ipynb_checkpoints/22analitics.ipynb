{
 "cells": [
  {
   "cell_type": "code",
   "execution_count": 2,
   "id": "b469a8db",
   "metadata": {},
   "outputs": [],
   "source": [
    "import pandas as pd\n"
   ]
  },
  {
   "cell_type": "code",
   "execution_count": 5,
   "id": "762b26cf",
   "metadata": {},
   "outputs": [],
   "source": [
    "import matplotlib.pyplot as plt"
   ]
  },
  {
   "cell_type": "code",
   "execution_count": 9,
   "id": "f44b438e",
   "metadata": {},
   "outputs": [],
   "source": [
    "from matplotlib import pyplot"
   ]
  },
  {
   "cell_type": "code",
   "execution_count": 7,
   "id": "dc02dae1",
   "metadata": {},
   "outputs": [],
   "source": [
    "all = pd.read_csv('22Data.csv',delimiter=',')"
   ]
  },
  {
   "cell_type": "code",
   "execution_count": 8,
   "id": "df67a75c",
   "metadata": {
    "scrolled": true
   },
   "outputs": [
    {
     "data": {
      "text/html": [
       "<div>\n",
       "<style scoped>\n",
       "    .dataframe tbody tr th:only-of-type {\n",
       "        vertical-align: middle;\n",
       "    }\n",
       "\n",
       "    .dataframe tbody tr th {\n",
       "        vertical-align: top;\n",
       "    }\n",
       "\n",
       "    .dataframe thead th {\n",
       "        text-align: right;\n",
       "    }\n",
       "</style>\n",
       "<table border=\"1\" class=\"dataframe\">\n",
       "  <thead>\n",
       "    <tr style=\"text-align: right;\">\n",
       "      <th></th>\n",
       "      <th>id</th>\n",
       "      <th>name</th>\n",
       "      <th>age</th>\n",
       "      <th>sex</th>\n",
       "      <th>link</th>\n",
       "      <th>text</th>\n",
       "    </tr>\n",
       "  </thead>\n",
       "  <tbody>\n",
       "    <tr>\n",
       "      <th>0</th>\n",
       "      <td>1</td>\n",
       "      <td>Ольга Матюшина</td>\n",
       "      <td>56</td>\n",
       "      <td>f</td>\n",
       "      <td>https://prozhito.org/note/448077</td>\n",
       "      <td>Евгения Михайловна много лет жила в двухэтажно...</td>\n",
       "    </tr>\n",
       "    <tr>\n",
       "      <th>1</th>\n",
       "      <td>2</td>\n",
       "      <td>Иван Савиков</td>\n",
       "      <td>38</td>\n",
       "      <td>m</td>\n",
       "      <td>https://prozhito.org/note/451514</td>\n",
       "      <td>И вот 22 июня, когда меня трясла малярия, вдру...</td>\n",
       "    </tr>\n",
       "    <tr>\n",
       "      <th>2</th>\n",
       "      <td>3</td>\n",
       "      <td>Лев Пашерстник</td>\n",
       "      <td>16</td>\n",
       "      <td>m</td>\n",
       "      <td>https://prozhito.org/note/453306https://prozhi...</td>\n",
       "      <td>Сегодня по радио передавали речь Молотова о пе...</td>\n",
       "    </tr>\n",
       "    <tr>\n",
       "      <th>3</th>\n",
       "      <td>4</td>\n",
       "      <td>Андрей Батуев</td>\n",
       "      <td>33</td>\n",
       "      <td>m</td>\n",
       "      <td>https://prozhito.org/note/453408https://prozhi...</td>\n",
       "      <td>День ясный, теплый, солнечный. Однако это уже ...</td>\n",
       "    </tr>\n",
       "    <tr>\n",
       "      <th>4</th>\n",
       "      <td>5</td>\n",
       "      <td>Янис Гринвалдс</td>\n",
       "      <td>44</td>\n",
       "      <td>m</td>\n",
       "      <td>https://prozhito.org/note/461521</td>\n",
       "      <td>На выставке нас поразила карта Советского Союз...</td>\n",
       "    </tr>\n",
       "    <tr>\n",
       "      <th>5</th>\n",
       "      <td>6</td>\n",
       "      <td>Василий Леонтьев</td>\n",
       "      <td>16</td>\n",
       "      <td>m</td>\n",
       "      <td>https://prozhito.org/note/461628</td>\n",
       "      <td>До этого дня много купались. Уже все загорели....</td>\n",
       "    </tr>\n",
       "    <tr>\n",
       "      <th>6</th>\n",
       "      <td>7</td>\n",
       "      <td>Елизавета Турнас</td>\n",
       "      <td>27 лет</td>\n",
       "      <td>f</td>\n",
       "      <td>https://prozhito.org/note/463884</td>\n",
       "      <td>22-го июня с утра пошли с сыном в баню, Вл. Ив...</td>\n",
       "    </tr>\n",
       "    <tr>\n",
       "      <th>7</th>\n",
       "      <td>8</td>\n",
       "      <td>Наталия Колесникова</td>\n",
       "      <td>undefined</td>\n",
       "      <td>f</td>\n",
       "      <td>https://prozhito.org/note/466637</td>\n",
       "      <td>Воскресенье. В ночь с 21 июля на 22 была перва...</td>\n",
       "    </tr>\n",
       "    <tr>\n",
       "      <th>8</th>\n",
       "      <td>9</td>\n",
       "      <td>АлександраЗагорская</td>\n",
       "      <td>undefined</td>\n",
       "      <td>f</td>\n",
       "      <td>https://prozhito.org/note/466717</td>\n",
       "      <td>Началась война с немецкими фашистами. Помню, к...</td>\n",
       "    </tr>\n",
       "    <tr>\n",
       "      <th>9</th>\n",
       "      <td>10</td>\n",
       "      <td>Александр Резяпкин</td>\n",
       "      <td>32</td>\n",
       "      <td>m</td>\n",
       "      <td>https://prozhito.org/note/467550</td>\n",
       "      <td>Как только Молотов окончил свою речь, капитан ...</td>\n",
       "    </tr>\n",
       "  </tbody>\n",
       "</table>\n",
       "</div>"
      ],
      "text/plain": [
       "   id                 name        age sex  \\\n",
       "0   1       Ольга Матюшина         56   f   \n",
       "1   2         Иван Савиков         38   m   \n",
       "2   3       Лев Пашерстник         16   m   \n",
       "3   4        Андрей Батуев         33   m   \n",
       "4   5       Янис Гринвалдс         44   m   \n",
       "5   6     Василий Леонтьев         16   m   \n",
       "6   7     Елизавета Турнас     27 лет   f   \n",
       "7   8  Наталия Колесникова  undefined   f   \n",
       "8   9  АлександраЗагорская  undefined   f   \n",
       "9  10   Александр Резяпкин         32   m   \n",
       "\n",
       "                                                link  \\\n",
       "0                   https://prozhito.org/note/448077   \n",
       "1                   https://prozhito.org/note/451514   \n",
       "2  https://prozhito.org/note/453306https://prozhi...   \n",
       "3  https://prozhito.org/note/453408https://prozhi...   \n",
       "4                   https://prozhito.org/note/461521   \n",
       "5                   https://prozhito.org/note/461628   \n",
       "6                   https://prozhito.org/note/463884   \n",
       "7                   https://prozhito.org/note/466637   \n",
       "8                   https://prozhito.org/note/466717   \n",
       "9                   https://prozhito.org/note/467550   \n",
       "\n",
       "                                                text  \n",
       "0  Евгения Михайловна много лет жила в двухэтажно...  \n",
       "1  И вот 22 июня, когда меня трясла малярия, вдру...  \n",
       "2  Сегодня по радио передавали речь Молотова о пе...  \n",
       "3  День ясный, теплый, солнечный. Однако это уже ...  \n",
       "4  На выставке нас поразила карта Советского Союз...  \n",
       "5  До этого дня много купались. Уже все загорели....  \n",
       "6  22-го июня с утра пошли с сыном в баню, Вл. Ив...  \n",
       "7  Воскресенье. В ночь с 21 июля на 22 была перва...  \n",
       "8  Началась война с немецкими фашистами. Помню, к...  \n",
       "9  Как только Молотов окончил свою речь, капитан ...  "
      ]
     },
     "metadata": {},
     "output_type": "display_data"
    }
   ],
   "source": [
    "display(all)"
   ]
  },
  {
   "cell_type": "markdown",
   "id": "84a7bbe3",
   "metadata": {},
   "source": [
    "# простая гистограмма до соноризации"
   ]
  },
  {
   "cell_type": "code",
   "execution_count": null,
   "id": "db4910a9",
   "metadata": {},
   "outputs": [],
   "source": [
    "import matplotlib as mpl\n",
    "import matplotlib.pyplot as plt\n",
    "tone = pd.read_csv('22DataTone.csv')"
   ]
  },
  {
   "cell_type": "code",
   "execution_count": null,
   "id": "60640049",
   "metadata": {},
   "outputs": [],
   "source": [
    "tone.head()\n",
    "mpl.style.use('dark_background')\n"
   ]
  },
  {
   "cell_type": "code",
   "execution_count": null,
   "id": "96f22683",
   "metadata": {},
   "outputs": [],
   "source": [
    "pozitive = tone['+']\n",
    "negative = tone['-']\n",
    "neutrale = tone['0']\n"
   ]
  },
  {
   "cell_type": "markdown",
   "id": "66f5c22e",
   "metadata": {},
   "source": [
    "график плотности а не частоты"
   ]
  },
  {
   "cell_type": "code",
   "execution_count": null,
   "id": "3b058ba3",
   "metadata": {},
   "outputs": [],
   "source": [
    "mean_m = tone['+'].mean()\n",
    "neutrale_proc = (tone['+'].count() +tone['-'].count())/tone['0'].count()\n",
    "\n",
    "plt.hist(tone['+'],\n",
    "          ec = 'black',\n",
    "         color = 'tab:green',\n",
    "         alpha = 0.4,\n",
    "         rwidth = 0.9,\n",
    "          bins = 5,\n",
    "        label = 'pozitive',\n",
    "        density = True)\n",
    "plt.hist(tone['-'],\n",
    "          ec = 'black',\n",
    "         color = 'tab:red',\n",
    "         alpha = 0.4,\n",
    "         rwidth = 0.9,\n",
    "          bins = 5,\n",
    "        label = 'nefative',\n",
    "         density = True)\n",
    "plt.hist(tone['0'],\n",
    "          ec = 'black',\n",
    "         color = 'tab:blue',\n",
    "         alpha = 0.4,\n",
    "         rwidth = 0.9,\n",
    "          bins = 5,\n",
    "        label = 'neutrale',\n",
    "         density = True)\n",
    "\n",
    "plt.axvline(x = mean_m, color = 'orange', lw=2, ls = '-.')\n",
    "\n",
    "#plt.axvline(x = neutrale_proc, color = 'grey', lw=2, ls = '-')\n",
    "plt.xlabel('результат оценки')\n",
    "plt.ylabel('?')\n",
    "plt.title('Тональность текстов')\n",
    "plt.legend(loc = 'best')\n",
    "        \n",
    "plt.show()"
   ]
  },
  {
   "cell_type": "code",
   "execution_count": null,
   "id": "73274966",
   "metadata": {},
   "outputs": [],
   "source": [
    "plt.scatter(x = '+', y = '-',data = tone,\n",
    "          color = 'tab:blue',\n",
    "            s = 200,\n",
    "            marker = 'o',\n",
    "           )\n",
    "\n",
    "plt.title('негативные и позитивные тексты')\n",
    "plt.ylabel('негативность')\n",
    "plt.xlabel('позитивность')\n",
    "plt.show()"
   ]
  },
  {
   "cell_type": "code",
   "execution_count": null,
   "id": "7e9a8396",
   "metadata": {},
   "outputs": [],
   "source": [
    "neu_pro = tone['0']value_counts()\n",
    "plt.barh(x = 0.index(),\n",
    "         heignt = 0\n",
    "plt.show()"
   ]
  },
  {
   "cell_type": "code",
   "execution_count": null,
   "id": "1ae94a8f",
   "metadata": {},
   "outputs": [],
   "source": [
    "tone_color = {'+':'tab:green','-':'tab:red','0':'tab:blue'}"
   ]
  },
  {
   "cell_type": "code",
   "execution_count": 11,
   "id": "15b8dc37",
   "metadata": {},
   "outputs": [],
   "source": [
    "import os"
   ]
  },
  {
   "cell_type": "code",
   "execution_count": 12,
   "id": "eaa94801",
   "metadata": {},
   "outputs": [],
   "source": [
    "os.chdir('..')\n"
   ]
  },
  {
   "cell_type": "code",
   "execution_count": 24,
   "id": "fea0e7e4",
   "metadata": {},
   "outputs": [],
   "source": [
    "paper =  pd.read_csv('C:/Users/yayar/OneDrive/Рабочий стол/sonicDataAnalizeYaro/csv/22Data.csv',delimiter=',')"
   ]
  },
  {
   "cell_type": "code",
   "execution_count": 25,
   "id": "2928161b",
   "metadata": {},
   "outputs": [],
   "source": [
    "papper = all[['text']]\n"
   ]
  },
  {
   "cell_type": "code",
   "execution_count": 26,
   "id": "6e7d085e",
   "metadata": {},
   "outputs": [
    {
     "data": {
      "text/html": [
       "<div>\n",
       "<style scoped>\n",
       "    .dataframe tbody tr th:only-of-type {\n",
       "        vertical-align: middle;\n",
       "    }\n",
       "\n",
       "    .dataframe tbody tr th {\n",
       "        vertical-align: top;\n",
       "    }\n",
       "\n",
       "    .dataframe thead th {\n",
       "        text-align: right;\n",
       "    }\n",
       "</style>\n",
       "<table border=\"1\" class=\"dataframe\">\n",
       "  <thead>\n",
       "    <tr style=\"text-align: right;\">\n",
       "      <th></th>\n",
       "      <th>text</th>\n",
       "    </tr>\n",
       "  </thead>\n",
       "  <tbody>\n",
       "    <tr>\n",
       "      <th>0</th>\n",
       "      <td>Евгения Михайловна много лет жила в двухэтажно...</td>\n",
       "    </tr>\n",
       "    <tr>\n",
       "      <th>1</th>\n",
       "      <td>И вот 22 июня, когда меня трясла малярия, вдру...</td>\n",
       "    </tr>\n",
       "    <tr>\n",
       "      <th>2</th>\n",
       "      <td>Сегодня по радио передавали речь Молотова о пе...</td>\n",
       "    </tr>\n",
       "    <tr>\n",
       "      <th>3</th>\n",
       "      <td>День ясный, теплый, солнечный. Однако это уже ...</td>\n",
       "    </tr>\n",
       "    <tr>\n",
       "      <th>4</th>\n",
       "      <td>На выставке нас поразила карта Советского Союз...</td>\n",
       "    </tr>\n",
       "  </tbody>\n",
       "</table>\n",
       "</div>"
      ],
      "text/plain": [
       "                                                text\n",
       "0  Евгения Михайловна много лет жила в двухэтажно...\n",
       "1  И вот 22 июня, когда меня трясла малярия, вдру...\n",
       "2  Сегодня по радио передавали речь Молотова о пе...\n",
       "3  День ясный, теплый, солнечный. Однако это уже ...\n",
       "4  На выставке нас поразила карта Советского Союз..."
      ]
     },
     "execution_count": 26,
     "metadata": {},
     "output_type": "execute_result"
    }
   ],
   "source": [
    "papper.head()\n",
    "\n",
    "\n"
   ]
  },
  {
   "cell_type": "code",
   "execution_count": 27,
   "id": "af29949f",
   "metadata": {},
   "outputs": [
    {
     "name": "stderr",
     "output_type": "stream",
     "text": [
      "<ipython-input-27-9a5841b66bed>:5: SettingWithCopyWarning: \n",
      "A value is trying to be set on a copy of a slice from a DataFrame.\n",
      "Try using .loc[row_indexer,col_indexer] = value instead\n",
      "\n",
      "See the caveats in the documentation: https://pandas.pydata.org/pandas-docs/stable/user_guide/indexing.html#returning-a-view-versus-a-copy\n",
      "  papper['text_processed'] = \\\n",
      "<ipython-input-27-9a5841b66bed>:8: SettingWithCopyWarning: \n",
      "A value is trying to be set on a copy of a slice from a DataFrame.\n",
      "Try using .loc[row_indexer,col_indexer] = value instead\n",
      "\n",
      "See the caveats in the documentation: https://pandas.pydata.org/pandas-docs/stable/user_guide/indexing.html#returning-a-view-versus-a-copy\n",
      "  papper['text_processed'] = \\\n"
     ]
    },
    {
     "data": {
      "text/plain": [
       "0    евгения михайловна много лет жила в двухэтажно...\n",
       "1    и вот 22 июня когда меня трясла малярия вдруг ...\n",
       "2    сегодня по радио передавали речь молотова о пе...\n",
       "3    день ясный теплый солнечный однако это уже не ...\n",
       "4    на выставке нас поразила карта советского союз...\n",
       "Name: text_processed, dtype: object"
      ]
     },
     "execution_count": 27,
     "metadata": {},
     "output_type": "execute_result"
    }
   ],
   "source": [
    "import re\n",
    "\n",
    "\n",
    "# Remove punctuation\n",
    "papper['text_processed'] = \\\n",
    "papper['text'].map(lambda x: re.sub('[,\\.!?]', '', x))\n",
    "# Convert the titles to lowercase\n",
    "papper['text_processed'] = \\\n",
    "papper['text_processed'].map(lambda x: x.lower())\n",
    "# Print out the first rows of papers\n",
    "papper['text_processed'].head()"
   ]
  },
  {
   "cell_type": "code",
   "execution_count": null,
   "id": "dcbf5a15",
   "metadata": {},
   "outputs": [],
   "source": []
  },
  {
   "cell_type": "code",
   "execution_count": 28,
   "id": "ad79d9cb",
   "metadata": {},
   "outputs": [
    {
     "ename": "ModuleNotFoundError",
     "evalue": "No module named 'wordcloud'",
     "output_type": "error",
     "traceback": [
      "\u001b[1;31m---------------------------------------------------------------------------\u001b[0m",
      "\u001b[1;31mModuleNotFoundError\u001b[0m                       Traceback (most recent call last)",
      "\u001b[1;32m<ipython-input-28-c1e3370ccd3c>\u001b[0m in \u001b[0;36m<module>\u001b[1;34m\u001b[0m\n\u001b[0;32m      1\u001b[0m \u001b[1;31m# Import the wordcloud library\u001b[0m\u001b[1;33m\u001b[0m\u001b[1;33m\u001b[0m\u001b[1;33m\u001b[0m\u001b[0m\n\u001b[1;32m----> 2\u001b[1;33m \u001b[1;32mfrom\u001b[0m \u001b[0mwordcloud\u001b[0m \u001b[1;32mimport\u001b[0m \u001b[0mWordCloud\u001b[0m\u001b[1;33m\u001b[0m\u001b[1;33m\u001b[0m\u001b[0m\n\u001b[0m\u001b[0;32m      3\u001b[0m \u001b[1;31m# Join the different processed titles together.\u001b[0m\u001b[1;33m\u001b[0m\u001b[1;33m\u001b[0m\u001b[1;33m\u001b[0m\u001b[0m\n\u001b[0;32m      4\u001b[0m \u001b[0mlong_string\u001b[0m \u001b[1;33m=\u001b[0m \u001b[1;34m','\u001b[0m\u001b[1;33m.\u001b[0m\u001b[0mjoin\u001b[0m\u001b[1;33m(\u001b[0m\u001b[0mlist\u001b[0m\u001b[1;33m(\u001b[0m\u001b[0mpapper\u001b[0m\u001b[1;33m[\u001b[0m\u001b[1;34m'text_processed'\u001b[0m\u001b[1;33m]\u001b[0m\u001b[1;33m.\u001b[0m\u001b[0mvalues\u001b[0m\u001b[1;33m)\u001b[0m\u001b[1;33m)\u001b[0m\u001b[1;33m\u001b[0m\u001b[1;33m\u001b[0m\u001b[0m\n\u001b[0;32m      5\u001b[0m \u001b[1;31m# Create a WordCloud object\u001b[0m\u001b[1;33m\u001b[0m\u001b[1;33m\u001b[0m\u001b[1;33m\u001b[0m\u001b[0m\n",
      "\u001b[1;31mModuleNotFoundError\u001b[0m: No module named 'wordcloud'"
     ]
    }
   ],
   "source": [
    "# Import the wordcloud library\n",
    "from wordcloud import WordCloud\n",
    "# Join the different processed titles together.\n",
    "long_string = ','.join(list(papper['text_processed'].values))\n",
    "# Create a WordCloud object\n",
    "wordcloud = WordCloud(background_color=\"black\", max_words=5000, contour_width=3, contour_color='steelblue')\n",
    "# Generate a word cloud\n",
    "wordcloud.generate(long_string)\n",
    "# Visualize the word cloud\n",
    "wordcloud.to_image()"
   ]
  },
  {
   "cell_type": "code",
   "execution_count": 29,
   "id": "5ad40093",
   "metadata": {},
   "outputs": [
    {
     "ename": "ModuleNotFoundError",
     "evalue": "No module named 'wordcloud'",
     "output_type": "error",
     "traceback": [
      "\u001b[1;31m---------------------------------------------------------------------------\u001b[0m",
      "\u001b[1;31mModuleNotFoundError\u001b[0m                       Traceback (most recent call last)",
      "\u001b[1;32m<ipython-input-29-9e86114df543>\u001b[0m in \u001b[0;36m<module>\u001b[1;34m\u001b[0m\n\u001b[0;32m      1\u001b[0m \u001b[1;32mimport\u001b[0m \u001b[0mpandas\u001b[0m \u001b[1;32mas\u001b[0m \u001b[0mpd\u001b[0m\u001b[1;33m\u001b[0m\u001b[1;33m\u001b[0m\u001b[0m\n\u001b[0;32m      2\u001b[0m \u001b[1;32mimport\u001b[0m \u001b[0mre\u001b[0m\u001b[1;33m\u001b[0m\u001b[1;33m\u001b[0m\u001b[0m\n\u001b[1;32m----> 3\u001b[1;33m \u001b[1;32mfrom\u001b[0m \u001b[0mwordcloud\u001b[0m \u001b[1;32mimport\u001b[0m \u001b[0mWordCloud\u001b[0m\u001b[1;33m\u001b[0m\u001b[1;33m\u001b[0m\u001b[0m\n\u001b[0m\u001b[0;32m      4\u001b[0m \u001b[1;33m\u001b[0m\u001b[0m\n\u001b[0;32m      5\u001b[0m \u001b[1;32mimport\u001b[0m \u001b[0mmatplotlib\u001b[0m \u001b[1;32mas\u001b[0m \u001b[0mmpl\u001b[0m\u001b[1;33m\u001b[0m\u001b[1;33m\u001b[0m\u001b[0m\n",
      "\u001b[1;31mModuleNotFoundError\u001b[0m: No module named 'wordcloud'"
     ]
    }
   ],
   "source": [
    "import pandas as pd\n",
    "import re\n",
    "from wordcloud import WordCloud\n",
    "\n",
    "import matplotlib as mpl\n",
    "import matplotlib.pyplot as plt\n",
    "\n",
    "paper = pd.read_csv('C:/Users/yayar/OneDrive/Рабочий стол/sonicDataAnalizeYaro/csv/22Data.csv', delimiter=',')\n",
    "\n",
    "paper['text_processed'] = \\\n",
    "    paper['text'].map(lambda x: re.sub('[,\\.!?\\\\n### ]', '', x))\n",
    "# Convert the titles to lowercase\n",
    "paper['text_processed'] = \\\n",
    "    paper['text_processed'].map(lambda x: x.lower())\n",
    "# Print out the first rows of papers\n",
    "paper['text_processed'].head()\n",
    "\n",
    "# Join the different processed titles together.\n",
    "long_string = ','.join(list(paper['text_processed'].values))\n",
    "# Create a WordCloud object\n",
    "wordcloud = WordCloud(background_color=\"black\", max_words=5000, contour_width=3, contour_color='steelblue')\n",
    "# Generate a word cloud\n",
    "wordcloud.generate(long_string)\n",
    "# Visualize the word cloud\n",
    "wordcloud.to_image()\n"
   ]
  },
  {
   "cell_type": "code",
   "execution_count": 30,
   "id": "9583b16f",
   "metadata": {},
   "outputs": [
    {
     "name": "stdout",
     "output_type": "stream",
     "text": [
      "Requirement already satisfied: gensim in c:\\users\\yayar\\anaconda3\\lib\\site-packages (4.0.1)\n",
      "Requirement already satisfied: numpy>=1.11.3 in c:\\users\\yayar\\anaconda3\\lib\\site-packages (from gensim) (1.20.1)\n",
      "Requirement already satisfied: smart-open>=1.8.1 in c:\\users\\yayar\\anaconda3\\lib\\site-packages (from gensim) (5.1.0)\n",
      "Requirement already satisfied: scipy>=0.18.1 in c:\\users\\yayar\\anaconda3\\lib\\site-packages (from gensim) (1.6.2)\n",
      "Requirement already satisfied: Cython==0.29.21 in c:\\users\\yayar\\anaconda3\\lib\\site-packages (from gensim) (0.29.21)\n"
     ]
    }
   ],
   "source": [
    "!pip install gensim"
   ]
  },
  {
   "cell_type": "code",
   "execution_count": 31,
   "id": "5ff1450b",
   "metadata": {},
   "outputs": [
    {
     "name": "stdout",
     "output_type": "stream",
     "text": [
      "['лет', 'жила', 'двухэтажном', 'деревянном', 'домике', 'занимала', 'квартиру', 'комнаты', 'дом', 'старинныи', 'низкими', 'потолками', 'порогами', 'большими', 'окнами', 'квартир', 'доме', 'четыре', 'жильцы', 'жили', 'лет', 'знали', 'друг', 'друга', 'пять', 'днеи', 'воины', 'поредело', 'население', 'дома']\n"
     ]
    },
    {
     "name": "stderr",
     "output_type": "stream",
     "text": [
      "[nltk_data] Downloading package stopwords to\n",
      "[nltk_data]     C:\\Users\\yayar\\AppData\\Roaming\\nltk_data...\n",
      "[nltk_data]   Package stopwords is already up-to-date!\n"
     ]
    }
   ],
   "source": [
    "import gensim\n",
    "from gensim.utils import simple_preprocess\n",
    "import nltk\n",
    "out = open('C:/Users/yayar/OneDrive/Documents/текст дисертации Ярочкин/публикации/sonicDataAnalizeYaro/dostoevsky/dosroevsky_data/row.txt','w', encoding='utf8')\n",
    "nltk.download('stopwords')\n",
    "from nltk.corpus import stopwords\n",
    "stop_words = stopwords.words('russian')\n",
    "stop_words.extend(['в', 'на', 'и', 'не', 'за','b','евгения','михаиловна'])\n",
    "def sent_to_words(sentences):\n",
    "    for sentence in sentences:\n",
    "        # deacc=True removes punctuations\n",
    "        yield(gensim.utils.simple_preprocess(str(sentence), deacc=True))\n",
    "def remove_stopwords(texts):\n",
    "    return [[word for word in simple_preprocess(str(doc)) \n",
    "             if word not in stop_words] for doc in texts]\n",
    "data = papper.text_processed.values.tolist()\n",
    "\n",
    "data_words = list(sent_to_words(data))\n",
    "# remove stop words\n",
    "data_words = remove_stopwords(data_words)\n",
    "print(data_words[:1][0][:30])\n",
    "\n"
   ]
  },
  {
   "cell_type": "code",
   "execution_count": 32,
   "id": "5ae60be5",
   "metadata": {},
   "outputs": [
    {
     "name": "stdout",
     "output_type": "stream",
     "text": [
      "[(0, 3), (1, 1), (2, 1), (3, 1), (4, 1), (5, 1), (6, 1), (7, 1), (8, 2), (9, 1), (10, 1), (11, 1), (12, 1), (13, 2), (14, 1), (15, 1), (16, 1), (17, 1), (18, 1), (19, 1), (20, 1), (21, 1), (22, 1), (23, 1), (24, 1), (25, 1), (26, 1), (27, 1), (28, 1), (29, 1)]\n"
     ]
    }
   ],
   "source": [
    "import gensim.corpora as corpora\n",
    "# Create Dictionary\n",
    "id2word = corpora.Dictionary(data_words)\n",
    "# Create Corpus\n",
    "texts = data_words\n",
    "# Term Document Frequency\n",
    "corpus = [id2word.doc2bow(text) for text in texts]\n",
    "# View\n",
    "print(corpus[:1][0][:30])"
   ]
  },
  {
   "cell_type": "code",
   "execution_count": 39,
   "id": "cc04e05a",
   "metadata": {},
   "outputs": [
    {
     "name": "stdout",
     "output_type": "stream",
     "text": [
      "[(45,\n",
      "  '0.006*\"ребята\" + 0.004*\"девочки\" + 0.004*\"дома\" + 0.004*\"евгении\" + '\n",
      "  '0.004*\"сад\" + 0.004*\"лида\" + 0.004*\"саду\" + 0.003*\"свои\" + 0.003*\"жильцы\" + '\n",
      "  '0.003*\"детеи\"'),\n",
      " (34,\n",
      "  '0.003*\"дома\" + 0.003*\"саду\" + 0.002*\"сад\" + 0.002*\"ребята\" + '\n",
      "  '0.002*\"евгении\" + 0.002*\"дом\" + 0.002*\"девочки\" + 0.002*\"лида\" + '\n",
      "  '0.002*\"цветы\" + 0.002*\"воиска\"'),\n",
      " (39,\n",
      "  '0.005*\"играл\" + 0.005*\"повесть\" + 0.005*\"день\" + 0.005*\"других\" + '\n",
      "  '0.005*\"положении\" + 0.005*\"радио\" + 0.005*\"выходнои\" + 0.005*\"читал\" + '\n",
      "  '0.004*\"сегодня\" + 0.004*\"гулял\"'),\n",
      " (48,\n",
      "  '0.004*\"дома\" + 0.004*\"девочки\" + 0.003*\"сад\" + 0.003*\"ребята\" + '\n",
      "  '0.002*\"лида\" + 0.002*\"девочек\" + 0.002*\"дети\" + 0.002*\"евгении\" + '\n",
      "  '0.002*\"саду\" + 0.002*\"мальчики\"'),\n",
      " (15,\n",
      "  '0.006*\"дома\" + 0.005*\"ребята\" + 0.004*\"сад\" + 0.004*\"евгении\" + '\n",
      "  '0.004*\"саду\" + 0.004*\"девочки\" + 0.004*\"лида\" + 0.003*\"михаиловны\" + '\n",
      "  '0.003*\"день\" + 0.003*\"часто\"'),\n",
      " (47,\n",
      "  '0.014*\"алксне\" + 0.008*\"воину\" + 0.008*\"часто\" + 0.008*\"германию\" + '\n",
      "  '0.008*\"время\" + 0.007*\"нам\" + 0.007*\"борьба\" + 0.007*\"отвечает\" + '\n",
      "  '0.007*\"победе\" + 0.007*\"труднои\"'),\n",
      " (18,\n",
      "  '0.017*\"немцы\" + 0.016*\"наши\" + 0.011*\"воиска\" + 0.010*\"июля\" + '\n",
      "  '0.010*\"взяли\" + 0.010*\"ночь\" + 0.009*\"наступление\" + 0.008*\"продолжали\" + '\n",
      "  '0.008*\"города\" + 0.008*\"направлении\"'),\n",
      " (16,\n",
      "  '0.010*\"воиска\" + 0.010*\"наши\" + 0.010*\"подарили\" + 0.009*\"боевое\" + '\n",
      "  '0.009*\"это\" + 0.009*\"ночью\" + 0.009*\"состоялось\" + 0.009*\"воздушное\" + '\n",
      "  '0.009*\"солнечныи\" + 0.009*\"бабочки\"'),\n",
      " (24,\n",
      "  '0.004*\"дома\" + 0.003*\"ребята\" + 0.003*\"сад\" + 0.003*\"девочки\" + '\n",
      "  '0.003*\"саду\" + 0.002*\"детеи\" + 0.002*\"день\" + 0.002*\"евгении\" + '\n",
      "  '0.002*\"часто\" + 0.002*\"лида\"'),\n",
      " (6,\n",
      "  '0.017*\"нам\" + 0.011*\"всем\" + 0.010*\"военкомата\" + 0.009*\"стали\" + '\n",
      "  '0.007*\"свои\" + 0.007*\"весь\" + 0.006*\"взяли\" + 0.006*\"подводных\" + '\n",
      "  '0.006*\"крым\" + 0.006*\"прямо\"'),\n",
      " (17,\n",
      "  '0.006*\"дома\" + 0.006*\"сад\" + 0.005*\"евгении\" + 0.004*\"ребята\" + '\n",
      "  '0.004*\"михаиловны\" + 0.004*\"саду\" + 0.003*\"лида\" + 0.003*\"ребятами\" + '\n",
      "  '0.003*\"день\" + 0.003*\"часто\"'),\n",
      " (4,\n",
      "  '0.004*\"утра\" + 0.004*\"это\" + 0.003*\"спешили\" + 0.003*\"нашу\" + '\n",
      "  '0.003*\"германско\" + 0.003*\"началась\" + 0.003*\"время\" + 0.003*\"миша\" + '\n",
      "  '0.003*\"люди\" + 0.002*\"новые\"'),\n",
      " (19,\n",
      "  '0.014*\"день\" + 0.013*\"радио\" + 0.012*\"прошел\" + 0.012*\"биллиард\" + '\n",
      "  '0.012*\"плохо\" + 0.012*\"немецк\" + 0.012*\"лото\" + 0.012*\"горького\" + '\n",
      "  '0.012*\"границ\" + 0.012*\"городов\"'),\n",
      " (2,\n",
      "  '0.009*\"воиска\" + 0.009*\"нам\" + 0.009*\"взяли\" + 0.009*\"наши\" + 0.008*\"немцы\" '\n",
      "  '+ 0.008*\"стали\" + 0.008*\"наступление\" + 0.007*\"весь\" + 0.006*\"военкомата\" + '\n",
      "  '0.005*\"ночь\"'),\n",
      " (32,\n",
      "  '0.005*\"это\" + 0.004*\"ночи\" + 0.004*\"утра\" + 0.004*\"нашу\" + '\n",
      "  '0.004*\"германско\" + 0.004*\"армия\" + 0.004*\"сразу\" + 0.004*\"миша\" + '\n",
      "  '0.004*\"часа\" + 0.003*\"спешили\"'),\n",
      " (44,\n",
      "  '0.004*\"дома\" + 0.004*\"сад\" + 0.003*\"ребята\" + 0.003*\"евгении\" + '\n",
      "  '0.003*\"часто\" + 0.003*\"саду\" + 0.003*\"девочки\" + 0.002*\"жильцы\" + '\n",
      "  '0.002*\"детеи\" + 0.002*\"лида\"'),\n",
      " (12,\n",
      "  '0.010*\"вл\" + 0.007*\"ив\" + 0.006*\"это\" + 0.006*\"го\" + 0.006*\"решила\" + '\n",
      "  '0.006*\"бежали\" + 0.005*\"дома\" + 0.005*\"костюм\" + 0.004*\"сразу\" + '\n",
      "  '0.004*\"домои\"'),\n",
      " (22,\n",
      "  '0.011*\"дома\" + 0.009*\"ив\" + 0.008*\"решила\" + 0.008*\"это\" + 0.007*\"вл\" + '\n",
      "  '0.006*\"костюм\" + 0.006*\"бежали\" + 0.005*\"го\" + 0.005*\"взяли\" + '\n",
      "  '0.005*\"домои\"'),\n",
      " (5,\n",
      "  '0.006*\"немцы\" + 0.006*\"наши\" + 0.006*\"воиска\" + 0.005*\"наступление\" + '\n",
      "  '0.004*\"взяли\" + 0.004*\"дома\" + 0.003*\"конце\" + 0.003*\"день\" + 0.003*\"доме\" '\n",
      "  '+ 0.003*\"тревоги\"'),\n",
      " (49,\n",
      "  '0.006*\"дома\" + 0.005*\"немцы\" + 0.004*\"евгении\" + 0.004*\"наши\" + '\n",
      "  '0.004*\"воиска\" + 0.004*\"ребята\" + 0.003*\"дом\" + 0.003*\"день\" + '\n",
      "  '0.003*\"девочки\" + 0.003*\"цветы\"')]\n"
     ]
    }
   ],
   "source": [
    "from pprint import pprint\n",
    "out = open('C:/Users/yayar/OneDrive/Рабочий стол/sonicDataAnalizeYaro/dostoevsky/topic_data.txt','w', encoding='utf8')\n",
    "# number of topics\n",
    "num_topics = 50\n",
    "# Build LDA model\n",
    "lda_model = gensim.models.LdaMulticore(corpus=corpus,\n",
    "                                       id2word=id2word,\n",
    "                                       num_topics=num_topics)\n",
    "s = lda_model.print_topics()# Print the Keyword in the 10 topics\n",
    "pprint(s)\n",
    "\n",
    "print(lda_model.print_topics(), file = out)\n",
    "doc_lda = lda_model[corpus]\n"
   ]
  },
  {
   "cell_type": "code",
   "execution_count": null,
   "id": "25d29219",
   "metadata": {},
   "outputs": [],
   "source": []
  },
  {
   "cell_type": "code",
   "execution_count": 35,
   "id": "d9d91015",
   "metadata": {},
   "outputs": [
    {
     "ename": "ModuleNotFoundError",
     "evalue": "No module named 'pyLDAvis'",
     "output_type": "error",
     "traceback": [
      "\u001b[1;31m---------------------------------------------------------------------------\u001b[0m",
      "\u001b[1;31mModuleNotFoundError\u001b[0m                       Traceback (most recent call last)",
      "\u001b[1;32m<ipython-input-35-d12e0203a82e>\u001b[0m in \u001b[0;36m<module>\u001b[1;34m\u001b[0m\n\u001b[1;32m----> 1\u001b[1;33m \u001b[1;32mimport\u001b[0m \u001b[0mpyLDAvis\u001b[0m\u001b[1;33m.\u001b[0m\u001b[0mgensim\u001b[0m\u001b[1;33m\u001b[0m\u001b[1;33m\u001b[0m\u001b[0m\n\u001b[0m\u001b[0;32m      2\u001b[0m \u001b[1;32mimport\u001b[0m \u001b[0mpickle\u001b[0m\u001b[1;33m\u001b[0m\u001b[1;33m\u001b[0m\u001b[0m\n\u001b[0;32m      3\u001b[0m \u001b[1;32mimport\u001b[0m \u001b[0mpyLDAvis\u001b[0m\u001b[1;33m\u001b[0m\u001b[1;33m\u001b[0m\u001b[0m\n\u001b[0;32m      4\u001b[0m \u001b[1;31m# Visualize the topics\u001b[0m\u001b[1;33m\u001b[0m\u001b[1;33m\u001b[0m\u001b[1;33m\u001b[0m\u001b[0m\n\u001b[0;32m      5\u001b[0m \u001b[0mpyLDAvis\u001b[0m\u001b[1;33m.\u001b[0m\u001b[0menable_notebook\u001b[0m\u001b[1;33m(\u001b[0m\u001b[1;33m)\u001b[0m\u001b[1;33m\u001b[0m\u001b[1;33m\u001b[0m\u001b[0m\n",
      "\u001b[1;31mModuleNotFoundError\u001b[0m: No module named 'pyLDAvis'"
     ]
    }
   ],
   "source": [
    "import pyLDAvis.gensim\n",
    "import pickle \n",
    "import pyLDAvis\n",
    "# Visualize the topics\n",
    "pyLDAvis.enable_notebook()\n",
    "LDAvis_data_filepath = os.path.join('./results/ldavis_prepared_'+str(num_topics))\n",
    "# # this is a bit time consuming - make the if statement True\n",
    "# # if you want to execute visualization prep yourself\n",
    "if 1 == 1:\n",
    "    LDAvis_prepared = pyLDAvis.gensim.prepare(lda_model, corpus, id2word)\n",
    "    with open(LDAvis_data_filepath, 'wb') as f:\n",
    "        pickle.dump(LDAvis_prepared, f)\n",
    "# load the pre-prepared pyLDAvis data from disk\n",
    "with open(LDAvis_data_filepath, 'rb') as f:\n",
    "    LDAvis_prepared = pickle.load(f)\n",
    "pyLDAvis.save_html(LDAvis_prepared, './results/ldavis_prepared_'+ str(num_topics) +'.html')\n",
    "LDAvis_prepared"
   ]
  },
  {
   "cell_type": "code",
   "execution_count": null,
   "id": "0ba533aa",
   "metadata": {},
   "outputs": [],
   "source": []
  }
 ],
 "metadata": {
  "kernelspec": {
   "display_name": "Python 3",
   "language": "python",
   "name": "python3"
  },
  "language_info": {
   "codemirror_mode": {
    "name": "ipython",
    "version": 3
   },
   "file_extension": ".py",
   "mimetype": "text/x-python",
   "name": "python",
   "nbconvert_exporter": "python",
   "pygments_lexer": "ipython3",
   "version": "3.8.8"
  }
 },
 "nbformat": 4,
 "nbformat_minor": 5
}
